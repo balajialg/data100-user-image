{
 "cells": [
  {
   "cell_type": "code",
   "execution_count": 1,
   "id": "f0a1ad78-8733-46a0-bc48-e8b35d49eccc",
   "metadata": {},
   "outputs": [],
   "source": [
    "import numpy as np"
   ]
  },
  {
   "cell_type": "code",
   "execution_count": 2,
   "id": "4b67e3ca-ca64-4095-bcba-79624c91ddc4",
   "metadata": {},
   "outputs": [],
   "source": [
    "import pandas as pd"
   ]
  },
  {
   "cell_type": "code",
   "execution_count": 3,
   "id": "7d779f1c-c5da-4fcc-a842-0fbff07d17f3",
   "metadata": {},
   "outputs": [],
   "source": [
    "import matplotlib.pyplot as plt"
   ]
  },
  {
   "cell_type": "code",
   "execution_count": 4,
   "id": "8f395490-2c08-46f9-b174-01b21f968017",
   "metadata": {},
   "outputs": [],
   "source": [
    "import plotly"
   ]
  },
  {
   "cell_type": "code",
   "execution_count": 5,
   "id": "3dfb0943-cfa9-4355-a049-c1099bdda2f6",
   "metadata": {},
   "outputs": [],
   "source": [
    "import os\n",
    "from nbconvert import HTMLExporter\n",
    "from nbconvert.preprocessors import ExecutePreprocessor\n",
    "from nbconvert import PDFExporter\n",
    "import subprocess"
   ]
  },
  {
   "cell_type": "code",
   "execution_count": 6,
   "id": "000261d1-1ace-4ce3-8cb6-7dce46237609",
   "metadata": {},
   "outputs": [],
   "source": [
    "notebooks_dir = \".\""
   ]
  },
  {
   "cell_type": "code",
   "execution_count": 7,
   "id": "dd33c947-018c-4cc5-84ad-e50da76dc8ae",
   "metadata": {},
   "outputs": [
    {
     "name": "stdout",
     "output_type": "stream",
     "text": [
      "Successfully converted notebook to PDF\n"
     ]
    }
   ],
   "source": [
    "\n",
    "notebook_path = os.path.join(notebooks_dir, \"all_hub_basic_notebook.ipynb\")\n",
    "\n",
    "# Set the output PDF file path\n",
    "pdf_path = os.path.splitext(notebook_path)[0] + \".pdf\"\n",
    "\n",
    "try:\n",
    "    # Use subprocess to call nbconvert to generate the PDF\n",
    "    result = subprocess.run(\n",
    "        [\"jupyter\", \"nbconvert\", \"--to\", \"webpdf\", notebook_path],\n",
    "        capture_output=True,\n",
    "        text=True,\n",
    "    )\n",
    "\n",
    "    # Check if the conversion was successful\n",
    "    if result.returncode != 0:\n",
    "        raise Exception(f\"PDF conversion failed for {notebook}. Error: {result.stderr}\")\n",
    "\n",
    "    # Verify that the PDF file exists\n",
    "    if not os.path.exists(pdf_path):\n",
    "        raise FileNotFoundError(f\"PDF conversion did not create the expected file for {notebook}\")\n",
    "\n",
    "    print(f\"Successfully converted notebook to PDF\")\n",
    "\n",
    "except Exception as e:\n",
    "    print(f\"Error: {str(e)}\")"
   ]
  },
  {
   "cell_type": "code",
   "execution_count": null,
   "id": "f7491637-dfde-4e82-9c75-6af700da65e5",
   "metadata": {},
   "outputs": [],
   "source": []
  }
 ],
 "metadata": {
  "kernelspec": {
   "display_name": "Python 3 (ipykernel)",
   "language": "python",
   "name": "python3"
  },
  "language_info": {
   "codemirror_mode": {
    "name": "ipython",
    "version": 3
   },
   "file_extension": ".py",
   "mimetype": "text/x-python",
   "name": "python",
   "nbconvert_exporter": "python",
   "pygments_lexer": "ipython3",
   "version": "3.11.11"
  }
 },
 "nbformat": 4,
 "nbformat_minor": 5
}
